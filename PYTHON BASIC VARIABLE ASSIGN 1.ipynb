{
 "cells": [
  {
   "cell_type": "code",
   "execution_count": 20,
   "id": "4225faf6-9b1c-4087-ac62-4c18009e09e0",
   "metadata": {},
   "outputs": [],
   "source": [
    "TOPIC: Python Basics Variable"
   ]
  },
  {
   "cell_type": "code",
   "execution_count": 20,
   "id": "71cfe67e-d26d-4e96-a3b2-ae27ff2b7ec5",
   "metadata": {},
   "outputs": [],
   "source": [
    "#Declare two variables, `x` and `y`, and assign them integer values. Swap the values of these variables without using any temporary variable."
   ]
  },
  {
   "cell_type": "code",
   "execution_count": 1,
   "id": "5d23f64b-a2d0-43fe-a9fa-436c8a949f88",
   "metadata": {},
   "outputs": [],
   "source": [
    "X = 900\n",
    "Y = 800"
   ]
  },
  {
   "cell_type": "code",
   "execution_count": 2,
   "id": "e62f45ad-18b7-42b3-80e4-b99f044ee5fc",
   "metadata": {},
   "outputs": [
    {
     "data": {
      "text/plain": [
       "900"
      ]
     },
     "execution_count": 2,
     "metadata": {},
     "output_type": "execute_result"
    }
   ],
   "source": [
    "X"
   ]
  },
  {
   "cell_type": "code",
   "execution_count": 3,
   "id": "3f944c6c-99d9-4692-8012-5e324201724b",
   "metadata": {},
   "outputs": [
    {
     "data": {
      "text/plain": [
       "800"
      ]
     },
     "execution_count": 3,
     "metadata": {},
     "output_type": "execute_result"
    }
   ],
   "source": [
    "Y"
   ]
  },
  {
   "cell_type": "code",
   "execution_count": 4,
   "id": "4734265b-ebbc-4ab8-ad07-d891a2d8c03a",
   "metadata": {},
   "outputs": [],
   "source": [
    "(X,Y) = (Y,X)"
   ]
  },
  {
   "cell_type": "code",
   "execution_count": 5,
   "id": "2d51fed0-9bfb-4029-91fa-627cae2d7b92",
   "metadata": {},
   "outputs": [
    {
     "data": {
      "text/plain": [
       "900"
      ]
     },
     "execution_count": 5,
     "metadata": {},
     "output_type": "execute_result"
    }
   ],
   "source": [
    "Y"
   ]
  },
  {
   "cell_type": "code",
   "execution_count": 6,
   "id": "8b16961e-bc05-4014-be63-4f1b5279296e",
   "metadata": {},
   "outputs": [
    {
     "data": {
      "text/plain": [
       "800"
      ]
     },
     "execution_count": 6,
     "metadata": {},
     "output_type": "execute_result"
    }
   ],
   "source": [
    "X\n"
   ]
  },
  {
   "cell_type": "code",
   "execution_count": null,
   "id": "32c66f07-b94f-4525-9125-711449b3765f",
   "metadata": {},
   "outputs": [],
   "source": []
  },
  {
   "cell_type": "code",
   "execution_count": null,
   "id": "b9c3a955-7373-4553-b69b-fe9e53704d1f",
   "metadata": {},
   "outputs": [],
   "source": []
  },
  {
   "cell_type": "code",
   "execution_count": null,
   "id": "52b73eac-bd24-41fb-a9be-1a9089f48c99",
   "metadata": {},
   "outputs": [],
   "source": []
  },
  {
   "cell_type": "code",
   "execution_count": null,
   "id": "a2c7fb4b-e327-40f2-8960-526780691583",
   "metadata": {},
   "outputs": [],
   "source": []
  },
  {
   "cell_type": "code",
   "execution_count": null,
   "id": "0a28bf1b-ec4c-4a3a-b457-82c1a2b59aa9",
   "metadata": {},
   "outputs": [],
   "source": [
    "#Create a program that calculates the area of a rectangle. Take the length and\n",
    "#width as inputs from the user and store them in variables. Calculate and\n",
    "#display the area."
   ]
  },
  {
   "cell_type": "code",
   "execution_count": 8,
   "id": "f4c31dd1-fbce-4f1b-8efd-187bfa95a80b",
   "metadata": {},
   "outputs": [
    {
     "name": "stdin",
     "output_type": "stream",
     "text": [
      " 9.5\n"
     ]
    }
   ],
   "source": [
    "length = float(input ())"
   ]
  },
  {
   "cell_type": "code",
   "execution_count": 11,
   "id": "d8ae19a9-4eab-4856-a70d-0ce754f315bd",
   "metadata": {},
   "outputs": [
    {
     "name": "stdin",
     "output_type": "stream",
     "text": [
      " 5.8\n"
     ]
    }
   ],
   "source": [
    "breadth = float(input())"
   ]
  },
  {
   "cell_type": "code",
   "execution_count": 12,
   "id": "bd23d1d0-faa5-453a-b970-78eaa815b148",
   "metadata": {},
   "outputs": [],
   "source": [
    "Area = length*breadth"
   ]
  },
  {
   "cell_type": "code",
   "execution_count": 13,
   "id": "79fae80c-8de5-4955-80e4-aabb12c89547",
   "metadata": {},
   "outputs": [
    {
     "name": "stdout",
     "output_type": "stream",
     "text": [
      "Area of rectangle = 55.1\n"
     ]
    }
   ],
   "source": [
    "print(\"Area of rectangle = \" + str(Area))  "
   ]
  },
  {
   "cell_type": "code",
   "execution_count": null,
   "id": "54b14e91-f1a6-4b85-9f48-3bb37ecb102f",
   "metadata": {},
   "outputs": [],
   "source": []
  },
  {
   "cell_type": "code",
   "execution_count": null,
   "id": "21e72153-c2cb-41c8-a952-85b8bc0d9528",
   "metadata": {},
   "outputs": [],
   "source": []
  },
  {
   "cell_type": "code",
   "execution_count": null,
   "id": "417853cc-fc63-4927-8de4-e6958fe07ad9",
   "metadata": {},
   "outputs": [],
   "source": []
  },
  {
   "cell_type": "code",
   "execution_count": 6,
   "id": "5384bbd4-f19f-4172-a453-9cbb51b004f9",
   "metadata": {},
   "outputs": [],
   "source": [
    "#Write a Python program that converts temperatures from Celsius to\n",
    "#Fahrenheit. Take the temperature in Celsius as input, store it in a variable,\n",
    "#convert it to Fahrenheit, and display the result."
   ]
  },
  {
   "cell_type": "code",
   "execution_count": 15,
   "id": "1a581b50-ff25-4714-9361-adcbcfeda4d9",
   "metadata": {},
   "outputs": [
    {
     "name": "stdin",
     "output_type": "stream",
     "text": [
      " 45\n"
     ]
    }
   ],
   "source": [
    "TempC = float(input())"
   ]
  },
  {
   "cell_type": "code",
   "execution_count": 16,
   "id": "9e440c13-f980-44c7-9627-6eea102bd589",
   "metadata": {},
   "outputs": [],
   "source": [
    " TempF = ( TempC * 9/5) + 32 \n"
   ]
  },
  {
   "cell_type": "code",
   "execution_count": 17,
   "id": "bfeb69e5-d841-424d-b0f4-c5eaee961f43",
   "metadata": {},
   "outputs": [
    {
     "name": "stdout",
     "output_type": "stream",
     "text": [
      "113.0\n"
     ]
    }
   ],
   "source": [
    "print(TempF)"
   ]
  },
  {
   "cell_type": "code",
   "execution_count": null,
   "id": "33b58863-0e10-4461-9d09-810f13ee3f40",
   "metadata": {},
   "outputs": [],
   "source": []
  },
  {
   "cell_type": "code",
   "execution_count": null,
   "id": "d1169189-6003-4467-9da9-525da4ce9e5e",
   "metadata": {},
   "outputs": [],
   "source": []
  },
  {
   "cell_type": "code",
   "execution_count": null,
   "id": "9a8b91ba-cd53-4896-a191-1600cde8bada",
   "metadata": {},
   "outputs": [],
   "source": []
  },
  {
   "cell_type": "code",
   "execution_count": null,
   "id": "24afe031-a1ea-4d91-bf9d-45c5fccecbe4",
   "metadata": {},
   "outputs": [],
   "source": []
  },
  {
   "cell_type": "code",
   "execution_count": null,
   "id": "c213d879-5e14-4061-a6b3-27c6e5c05925",
   "metadata": {},
   "outputs": [],
   "source": [
    "TOPIC: String Based Questions"
   ]
  },
  {
   "cell_type": "code",
   "execution_count": null,
   "id": "83c38751-5661-486b-a440-fa419bab8483",
   "metadata": {},
   "outputs": [],
   "source": [
    "#Write a Python program that takes a string as input and prints the length of\n",
    "the string."
   ]
  },
  {
   "cell_type": "code",
   "execution_count": 18,
   "id": "40847661-f9e7-4e1f-8667-a9ad35f03aa1",
   "metadata": {},
   "outputs": [
    {
     "name": "stdin",
     "output_type": "stream",
     "text": [
      " snehal\n"
     ]
    }
   ],
   "source": [
    "Alpha = str(input())"
   ]
  },
  {
   "cell_type": "code",
   "execution_count": 19,
   "id": "1bbedde5-ca11-4e40-8d2c-ec0d16fbee7d",
   "metadata": {},
   "outputs": [
    {
     "data": {
      "text/plain": [
       "'snehal'"
      ]
     },
     "execution_count": 19,
     "metadata": {},
     "output_type": "execute_result"
    }
   ],
   "source": [
    "Alpha"
   ]
  },
  {
   "cell_type": "code",
   "execution_count": 20,
   "id": "2dbf50f0-b946-45af-8ba0-6dd6d2fc3a85",
   "metadata": {},
   "outputs": [
    {
     "data": {
      "text/plain": [
       "str"
      ]
     },
     "execution_count": 20,
     "metadata": {},
     "output_type": "execute_result"
    }
   ],
   "source": [
    "type(Alpha)"
   ]
  },
  {
   "cell_type": "code",
   "execution_count": 21,
   "id": "855d9d9f-fc9f-4b3a-ad1b-761830045310",
   "metadata": {},
   "outputs": [
    {
     "data": {
      "text/plain": [
       "6"
      ]
     },
     "execution_count": 21,
     "metadata": {},
     "output_type": "execute_result"
    }
   ],
   "source": [
    "len(Alpha)"
   ]
  },
  {
   "cell_type": "code",
   "execution_count": null,
   "id": "722bd826-b1b9-4303-97e8-a1e6fdde4462",
   "metadata": {},
   "outputs": [],
   "source": []
  },
  {
   "cell_type": "code",
   "execution_count": null,
   "id": "bd374d12-f952-408b-99c9-0fa8e88e5a19",
   "metadata": {},
   "outputs": [],
   "source": [
    "#Create a program that takes a sentence from the user and counts the number\n",
    "of vowels (a, e, i, o, u) in the string."
   ]
  },
  {
   "cell_type": "code",
   "execution_count": 22,
   "id": "ef0229db-f406-4f14-940c-28755960a0b2",
   "metadata": {},
   "outputs": [
    {
     "name": "stdin",
     "output_type": "stream",
     "text": [
      " gfyrilcno otireoreoigopekoperpogreopoiiiiiiiiiiiiiiiiiiooooooooooooooaaaaaaaaaa\n"
     ]
    }
   ],
   "source": [
    "Para = str(input())"
   ]
  },
  {
   "cell_type": "code",
   "execution_count": 23,
   "id": "e7798f22-afd4-4564-b46b-a397c58ee32c",
   "metadata": {},
   "outputs": [],
   "source": [
    "vowels=0\n",
    "for i in Para:\n",
    "      if(i=='a' or i=='e' or i=='i' or i=='o' or i=='u' or i=='A' or i=='E' or i=='I' or i=='O' or i=='U'):\n",
    "            vowels= vowels+1"
   ]
  },
  {
   "cell_type": "code",
   "execution_count": 24,
   "id": "31ae2c46-7548-432e-a052-c5cc5bf7487f",
   "metadata": {},
   "outputs": [
    {
     "name": "stdout",
     "output_type": "stream",
     "text": [
      "Number of vowels are:\n",
      "59\n"
     ]
    }
   ],
   "source": [
    "print(\"Number of vowels are:\")\n",
    "print(vowels)\n"
   ]
  },
  {
   "cell_type": "code",
   "execution_count": null,
   "id": "c87161aa-7d66-480c-9c6a-c27c0d126c7a",
   "metadata": {},
   "outputs": [],
   "source": []
  },
  {
   "cell_type": "code",
   "execution_count": null,
   "id": "7317cb84-3493-4f24-8afd-35644ee6efe0",
   "metadata": {},
   "outputs": [],
   "source": []
  },
  {
   "cell_type": "code",
   "execution_count": null,
   "id": "058e6949-b1f7-4aed-81b2-b77b1b5e84d8",
   "metadata": {},
   "outputs": [],
   "source": [
    "#A machine is a physical system using power to apply forces and control movement to perform an action. The term is commonly applied to artificial devices, such as those employing engines or motors, but also to natural biological macromolecules, such as molecular machines. Machines can be driven by animals and people, by natural forces such as wind and water, and by chemical, thermal, or electrical power, and include a system of mechanisms that shape the actuator input to achieve a specific application of output forces and movement. They can also include computers and sensors that monitor performance and plan movement, often called mechanical systems."
   ]
  },
  {
   "cell_type": "code",
   "execution_count": 25,
   "id": "84ebecd6-fdc2-40a7-b3aa-f3b34d981eb9",
   "metadata": {},
   "outputs": [
    {
     "name": "stdin",
     "output_type": "stream",
     "text": [
      " type\n"
     ]
    }
   ],
   "source": [
    "Reverse = str(input())"
   ]
  },
  {
   "cell_type": "code",
   "execution_count": 27,
   "id": "930d6b60-4206-455b-b656-d24be31d07c8",
   "metadata": {},
   "outputs": [
    {
     "data": {
      "text/plain": [
       "'epyt'"
      ]
     },
     "execution_count": 27,
     "metadata": {},
     "output_type": "execute_result"
    }
   ],
   "source": [
    "Reverse[::-1]"
   ]
  },
  {
   "cell_type": "code",
   "execution_count": 28,
   "id": "7500db9a-c6d7-4062-b3ba-427f2e337146",
   "metadata": {
    "scrolled": true,
    "tags": []
   },
   "outputs": [
    {
     "name": "stdout",
     "output_type": "stream",
     "text": [
      "epyt\n"
     ]
    }
   ],
   "source": [
    "print(Reverse[::-1])\n"
   ]
  },
  {
   "cell_type": "code",
   "execution_count": null,
   "id": "8d627317-b27e-4842-941e-d5ca08fc3c39",
   "metadata": {},
   "outputs": [],
   "source": []
  },
  {
   "cell_type": "code",
   "execution_count": null,
   "id": "e90a037f-ec7d-40ea-9325-57c743dd4a68",
   "metadata": {},
   "outputs": [],
   "source": []
  },
  {
   "cell_type": "code",
   "execution_count": null,
   "id": "713d2a39-1e42-4489-bdd1-753d189c17e3",
   "metadata": {},
   "outputs": [],
   "source": [
    "#Write a program that takes a string as input and checks if it is a palindrome\n",
    "#(reads the same forwards and backwards)."
   ]
  },
  {
   "cell_type": "code",
   "execution_count": 29,
   "id": "60f85b3e-ff30-42fd-a1bb-c012950a4b87",
   "metadata": {},
   "outputs": [
    {
     "data": {
      "text/plain": [
       "'RRADAAARR'"
      ]
     },
     "execution_count": 29,
     "metadata": {},
     "output_type": "execute_result"
    }
   ],
   "source": [
    "k=\"RRADAAARR\"\n",
    "k[0::]\n"
   ]
  },
  {
   "cell_type": "code",
   "execution_count": 30,
   "id": "5d1b8654-d05d-4dbc-aa1a-314d0c85293a",
   "metadata": {},
   "outputs": [
    {
     "data": {
      "text/plain": [
       "'RRAAADARR'"
      ]
     },
     "execution_count": 30,
     "metadata": {},
     "output_type": "execute_result"
    }
   ],
   "source": [
    "k[::-1]"
   ]
  },
  {
   "cell_type": "code",
   "execution_count": 31,
   "id": "890141d5-8317-4091-a2e0-0e3435565fbf",
   "metadata": {},
   "outputs": [
    {
     "name": "stdout",
     "output_type": "stream",
     "text": [
      "False\n"
     ]
    }
   ],
   "source": [
    "print(k[0::] == k[::-1] or k[::-1] == k[0::])"
   ]
  },
  {
   "cell_type": "code",
   "execution_count": 32,
   "id": "760606d6-da54-4479-b0a7-52eed8a39937",
   "metadata": {},
   "outputs": [
    {
     "name": "stdout",
     "output_type": "stream",
     "text": [
      "The given string is  not Palindrome: RRADAAARR\n"
     ]
    }
   ],
   "source": [
    "if (k[0::] == k[::-1] or k[::-1] == k[0::]):\n",
    "     print(\"The given string is Palindrome:\",k)\n",
    "        \n",
    "elif (k[0::] != k[::-1] or k[::-1] != k[0::]):\n",
    "            print(\"The given string is  not Palindrome:\",k)\n",
    "            \n",
    "    "
   ]
  },
  {
   "cell_type": "code",
   "execution_count": null,
   "id": "f118ed44-6b9f-4bae-aae8-fbf865e64c46",
   "metadata": {},
   "outputs": [],
   "source": [
    "### 5. Create a program that takes a string as input and removes all the spaces from it. Print the modified string without spaces.\n"
   ]
  },
  {
   "cell_type": "code",
   "execution_count": 33,
   "id": "5a91ef79-de25-4617-b300-ff4ce6491d0a",
   "metadata": {},
   "outputs": [
    {
     "name": "stdin",
     "output_type": "stream",
     "text": [
      "Enter a string uiiui\n"
     ]
    }
   ],
   "source": [
    "input_string = input(\"Enter a string\")"
   ]
  },
  {
   "cell_type": "code",
   "execution_count": 34,
   "id": "9bb2dfff-9117-42cb-8227-2b55bddfdf8b",
   "metadata": {},
   "outputs": [],
   "source": [
    "new_string = \"\"\n"
   ]
  },
  {
   "cell_type": "code",
   "execution_count": 35,
   "id": "25953aa8-697b-4b96-b1ec-8230c9b7f3dc",
   "metadata": {},
   "outputs": [],
   "source": [
    "for char in input_string:\n",
    "    if char != \" \":\n",
    "        new_string += char\n"
   ]
  },
  {
   "cell_type": "code",
   "execution_count": 36,
   "id": "10c2911f-a7ad-4f86-a93d-829f598d3db4",
   "metadata": {},
   "outputs": [
    {
     "name": "stdout",
     "output_type": "stream",
     "text": [
      "New string:  uiiui\n"
     ]
    }
   ],
   "source": [
    "\n",
    "print(\"New string: \", new_string)\n"
   ]
  },
  {
   "cell_type": "code",
   "execution_count": null,
   "id": "67caeb90-02ae-40b0-b00c-858c7c751855",
   "metadata": {},
   "outputs": [],
   "source": []
  }
 ],
 "metadata": {
  "kernelspec": {
   "display_name": "Python 3 (ipykernel)",
   "language": "python",
   "name": "python3"
  },
  "language_info": {
   "codemirror_mode": {
    "name": "ipython",
    "version": 3
   },
   "file_extension": ".py",
   "mimetype": "text/x-python",
   "name": "python",
   "nbconvert_exporter": "python",
   "pygments_lexer": "ipython3",
   "version": "3.10.8"
  }
 },
 "nbformat": 4,
 "nbformat_minor": 5
}
